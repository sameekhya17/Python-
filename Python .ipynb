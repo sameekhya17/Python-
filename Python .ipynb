{
 "cells": [
  {
   "cell_type": "markdown",
   "id": "f6234ef9",
   "metadata": {},
   "source": [
    "# If-Else"
   ]
  },
  {
   "cell_type": "code",
   "execution_count": 25,
   "id": "90b4357e",
   "metadata": {},
   "outputs": [
    {
     "name": "stdout",
     "output_type": "stream",
     "text": [
      "Value is negative\n"
     ]
    }
   ],
   "source": [
    "x = -3\n",
    "if x > 0:\n",
    "    print(\"Value is positive\")\n",
    "\n",
    "elif x < 0:\n",
    "    print(\"Value is negative\")\n",
    "\n",
    "else:\n",
    "    print(\"Value is zero\")"
   ]
  },
  {
   "cell_type": "code",
   "execution_count": 9,
   "id": "24e812df",
   "metadata": {},
   "outputs": [
    {
     "name": "stdout",
     "output_type": "stream",
     "text": [
      "No\n"
     ]
    }
   ],
   "source": [
    "x = 59\n",
    "if x < 10:\n",
    "    s = \"Yes\"\n",
    "else:\n",
    "    s = \"No\"\n",
    "print(s)"
   ]
  },
  {
   "cell_type": "code",
   "execution_count": 10,
   "id": "d4a41819",
   "metadata": {},
   "outputs": [
    {
     "name": "stdout",
     "output_type": "stream",
     "text": [
      "x is false\n",
      "y is true\n"
     ]
    }
   ],
   "source": [
    "x = ''      # An empty string \n",
    "y = ['s']   # A list with one item \n",
    "if x:\n",
    "    print(\"x is true\")\n",
    "else: \n",
    "    print(\"x is false\")     \n",
    "\n",
    "if y:\n",
    "    print(\"y is true\")\n",
    "else:\n",
    "    print(\"y is false\")"
   ]
  },
  {
   "cell_type": "code",
   "execution_count": 11,
   "id": "e8622b2f",
   "metadata": {},
   "outputs": [
    {
     "name": "stdout",
     "output_type": "stream",
     "text": [
      "[58, 42, 84, 17]\n",
      "Are values of y and x the same? True\n",
      "Are objects y and x the same? False\n",
      "Are values of z and x the same? True\n",
      "Are objects z and x the same? True\n",
      "[58, 23, 84, 17]\n",
      "Are values of y and x the same? False\n",
      "Are objects y and x the same? False\n",
      "Are values of z and x the same? True\n",
      "Are objects z and x the same? True\n"
     ]
    }
   ],
   "source": [
    "x = [58, 42, 84, 17]\n",
    "y = x[:] # y is a copy of x\n",
    "z = x \n",
    "print(x)\n",
    "print(\"Are values of y and x the same?\", y == x)\n",
    "print(\"Are objects y and x the same?\", y is x)\n",
    "print(\"Are values of z and x the same?\", z == x)\n",
    "print(\"Are objects z and x the same?\", z is x)\n",
    "# Let's change x\n",
    "x[1] = 23\n",
    "print(x)\n",
    "print(\"Are values of y and x the same?\", y == x)  \n",
    "print(\"Are objects y and x the same?\", y is x)\n",
    "print(\"Are values of z and x the same?\", z == x)\n",
    "print(\"Are objects z and x the same?\", z is x)"
   ]
  },
  {
   "cell_type": "code",
   "execution_count": 12,
   "id": "39be6421",
   "metadata": {},
   "outputs": [
    {
     "name": "stdout",
     "output_type": "stream",
     "text": [
      "Smita has passed in the exam\n"
     ]
    }
   ],
   "source": [
    "name = \"Smita\"\n",
    "mark = 85\n",
    "\n",
    "if mark < 45:\n",
    "    print(name, \"has failed in the exam\")\n",
    "        \n",
    "elif mark > 45:\n",
    "    print(name, \"has passed in the exam\")\n",
    "        \n",
    "else:\n",
    "    pass"
   ]
  },
  {
   "cell_type": "markdown",
   "id": "292e115c",
   "metadata": {},
   "source": [
    "# Tuple"
   ]
  },
  {
   "cell_type": "code",
   "execution_count": 13,
   "id": "4f7b6613",
   "metadata": {},
   "outputs": [
    {
     "name": "stdout",
     "output_type": "stream",
     "text": [
      "(10, 62, 58, 90)\n",
      "()\n",
      "('Sam',)\n",
      "(12, 7, False, 'Arg', None)\n"
     ]
    }
   ],
   "source": [
    "a = (10, 62, 58, 90) # tuple of 4 integers\n",
    "b = () # empty tuple\n",
    "c = (\"Sam\",) # tuple of a single string (note the trailing \",\")\n",
    "d = (12, 7, False, \"Arg\", None) # a tuple of mixed types\n",
    "\n",
    "print(a)\n",
    "print(b)\n",
    "print(c)\n",
    "print(d)"
   ]
  },
  {
   "cell_type": "code",
   "execution_count": 16,
   "id": "d352ebf9",
   "metadata": {},
   "outputs": [
    {
     "name": "stdout",
     "output_type": "stream",
     "text": [
      "(1.5, -0.3, 0.8)\n"
     ]
    }
   ],
   "source": [
    "x = 1.5\n",
    "y = -0.3\n",
    "z = 0.8\n",
    "t = (x, y, z)\n",
    "\n",
    "print(t)"
   ]
  },
  {
   "cell_type": "code",
   "execution_count": 18,
   "id": "d8e2c38a",
   "metadata": {},
   "outputs": [
    {
     "name": "stdout",
     "output_type": "stream",
     "text": [
      "t is (2, 3, 4, 7)\n",
      "a is 2\n",
      "b is 3\n",
      "c is 4\n",
      "d is 7\n"
     ]
    }
   ],
   "source": [
    "t = 2, 3, 4, 7 # tuple packing\n",
    "print('t is', t)\n",
    "a, b, c ,d = t # tuple unpacking\n",
    "print('a is', a)\n",
    "print('b is', b)\n",
    "print('c is', c)\n",
    "print('d is', d)"
   ]
  },
  {
   "cell_type": "markdown",
   "id": "65e595d7",
   "metadata": {},
   "source": [
    "# List"
   ]
  },
  {
   "cell_type": "code",
   "execution_count": null,
   "id": "783b7597",
   "metadata": {},
   "outputs": [],
   "source": [
    "a = [1, 3, 9, 'Py', 217.213]\n",
    "b = [\"Python\"]\n",
    "c = []\n",
    "\n",
    "print(a)\n",
    "print(b)\n",
    "print(c)"
   ]
  },
  {
   "cell_type": "code",
   "execution_count": 20,
   "id": "bb42f67d",
   "metadata": {},
   "outputs": [
    {
     "name": "stdout",
     "output_type": "stream",
     "text": [
      "(1, 3, 7, 19)\n",
      "['A', 'B', 'C', 'd']\n",
      "[1, 3, 7, 19]\n",
      "('A', 'B', 'C', 'd')\n"
     ]
    }
   ],
   "source": [
    "a = (1, 3, 7, 19)     # A tuple of numbers\n",
    "b = ['A','B','C','d'] # A list of characters\n",
    "print(a)\n",
    "print(b)\n",
    "l = list(a)   # Make a list based on a tuple \n",
    "print(l)\n",
    "t = tuple(b)  # Make a tuple based on a list\n",
    "print(t)"
   ]
  },
  {
   "cell_type": "code",
   "execution_count": 19,
   "id": "2f10eda1",
   "metadata": {},
   "outputs": [
    {
     "name": "stdout",
     "output_type": "stream",
     "text": [
      "p\n",
      "st\n",
      "cd\n",
      "r\n",
      "[['p', 'st'], ['cd', 'r']]\n"
     ]
    }
   ],
   "source": [
    "matrix = [[input(),input()], [input(),input()]] #list of list or nested list\n",
    "print(matrix)"
   ]
  },
  {
   "cell_type": "code",
   "execution_count": 2,
   "id": "ffa7036b",
   "metadata": {},
   "outputs": [
    {
     "name": "stdout",
     "output_type": "stream",
     "text": [
      "Enter a number:54\n",
      "45\n"
     ]
    }
   ],
   "source": [
    "x=input(\"Enter a number:\")\n",
    "y=int(x[::-1]) # Reverse a number by slicing \n",
    "print(y)"
   ]
  },
  {
   "cell_type": "code",
   "execution_count": 3,
   "id": "58c53388",
   "metadata": {},
   "outputs": [
    {
     "name": "stdout",
     "output_type": "stream",
     "text": [
      "Enter number of elements of list:4\n",
      "Enter the elements of list:\n",
      "15\n",
      "9\n",
      "35\n",
      "7\n",
      "Elements in list\n",
      "[15, 9, 35, 7]\n",
      "15\n",
      "35\n"
     ]
    }
   ],
   "source": [
    "n =  int(input(\"Enter number of elements of list:\"))\n",
    "my_list= []\n",
    "print(\"Enter the elements of list:\")\n",
    "for i in range(n):\n",
    "    element = int(input())\n",
    "    my_list.append(element)\n",
    "print(\"Elements in list\")\n",
    "print(my_list) \n",
    "for element in my_list:\n",
    "    if(element%5==0):\n",
    "        print(element) # display elements of list which are divisible by 5"
   ]
  },
  {
   "cell_type": "markdown",
   "id": "de35b9e6",
   "metadata": {},
   "source": [
    "# String"
   ]
  },
  {
   "cell_type": "code",
   "execution_count": 22,
   "id": "6a19af06",
   "metadata": {},
   "outputs": [
    {
     "name": "stdout",
     "output_type": "stream",
     "text": [
      "S\n",
      "y\n",
      "Samee\n",
      "True\n",
      "True\n",
      "9\n"
     ]
    }
   ],
   "source": [
    "text = \"Sameekhya\"\n",
    "print(text[0])\n",
    "print(text[-2])\n",
    "print(text[0:5])\n",
    "print(\"Sam\" in text)\n",
    "print(\"hya\" in text)\n",
    "print(len(text))"
   ]
  },
  {
   "cell_type": "code",
   "execution_count": 23,
   "id": "e0a175ac",
   "metadata": {},
   "outputs": [
    {
     "name": "stdout",
     "output_type": "stream",
     "text": [
      "['Hello', 'World']\n",
      "['H', 'e', 'l', 'l', 'o', ' ', 'W', 'o', 'r', 'l', 'd']\n"
     ]
    }
   ],
   "source": [
    "string = \"Hello World\"\n",
    "words = string.split(\" \")\n",
    "print(words)\n",
    "letters = list(string) # a tuple of character converted into a list\n",
    "print(letters)"
   ]
  },
  {
   "cell_type": "code",
   "execution_count": 1,
   "id": "ab70cc12",
   "metadata": {},
   "outputs": [
    {
     "name": "stdout",
     "output_type": "stream",
     "text": [
      "Enter a string:the students are the jewels\n",
      "Enter a substring:the\n",
      "2\n"
     ]
    }
   ],
   "source": [
    "s=input(\"Enter a string:\")\n",
    "s1=input(\"Enter a substring:\")\n",
    "x=s.count(s1)\n",
    "print(x)"
   ]
  },
  {
   "cell_type": "code",
   "execution_count": null,
   "id": "85d7e821",
   "metadata": {},
   "outputs": [],
   "source": []
  }
 ],
 "metadata": {
  "kernelspec": {
   "display_name": "Python 3 (ipykernel)",
   "language": "python",
   "name": "python3"
  },
  "language_info": {
   "codemirror_mode": {
    "name": "ipython",
    "version": 3
   },
   "file_extension": ".py",
   "mimetype": "text/x-python",
   "name": "python",
   "nbconvert_exporter": "python",
   "pygments_lexer": "ipython3",
   "version": "3.9.12"
  }
 },
 "nbformat": 4,
 "nbformat_minor": 5
}
